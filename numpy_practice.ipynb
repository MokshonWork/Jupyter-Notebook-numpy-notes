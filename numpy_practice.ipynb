{
 "cells": [
  {
   "cell_type": "code",
   "execution_count": 40,
   "id": "8d1aece0",
   "metadata": {},
   "outputs": [],
   "source": [
    "import numpy as np\n"
   ]
  },
  {
   "cell_type": "markdown",
   "id": "cfcd54ce",
   "metadata": {},
   "source": [
    "*VALID SUDOKU*"
   ]
  },
  {
   "cell_type": "code",
   "execution_count": 41,
   "id": "f3f4ccf7",
   "metadata": {},
   "outputs": [],
   "source": [
    "s = np.array([\n",
    "    [5, 3, 4, 6, 7, 8, 9, 1, 2],\n",
    "    [6, 7, 2, 1, 9, 5, 3, 4, 8],\n",
    "    [1, 9, 8, 3, 4, 2, 5, 6, 7],\n",
    "    \n",
    "    [8, 5, 9, 7, 6, 1, 4, 2, 3],\n",
    "    [4, 2, 6, 8, 5, 3, 7, 9, 1],\n",
    "    [7, 1, 3, 9, 2, 4, 8, 5, 6],\n",
    "    \n",
    "    [9, 6, 1, 5, 3, 7, 2, 8, 4],\n",
    "    [2, 8, 7, 4, 1, 9, 6, 3, 5],\n",
    "    [3, 4, 5, 2, 8, 6, 1, 7, 9]\n",
    "])"
   ]
  },
  {
   "cell_type": "code",
   "execution_count": 42,
   "id": "29d77f44",
   "metadata": {},
   "outputs": [
    {
     "name": "stdout",
     "output_type": "stream",
     "text": [
      "for the rows it is valid!\n"
     ]
    }
   ],
   "source": [
    "sum_row = s.sum(axis=1)\n",
    "# print(sum_row)\n",
    "\n",
    "#or\n",
    "b= np.sum(s,axis=1)\n",
    "# print(sum_row1)\n",
    "for i in b:\n",
    "    if i != 45:\n",
    "        print(\"Sudoku is not valid!\")\n",
    "else:\n",
    "    print(\"for the rows it is valid!\")\n"
   ]
  },
  {
   "cell_type": "code",
   "execution_count": null,
   "id": "26b0b801",
   "metadata": {},
   "outputs": [
    {
     "name": "stdout",
     "output_type": "stream",
     "text": [
      "for the columns it is valid!\n"
     ]
    }
   ],
   "source": [
    "#now we will check for columns\n",
    "c= np.sum(s,axis=0)\n",
    "# print(c)\n",
    "for i in c:\n",
    "    if i != 45:\n",
    "        print(\"Sudoku is not valid!\")\n",
    "else:\n",
    "    print(\"for the columns it is valid!\")\n"
   ]
  },
  {
   "cell_type": "markdown",
   "id": "6844555c",
   "metadata": {},
   "source": [
    "we have checked that the whole matrix rows and columns sum is same.\n",
    "divide the matrix into parts and check every block whether there sum is same or not"
   ]
  },
  {
   "cell_type": "code",
   "execution_count": 44,
   "id": "8d4fd7f6",
   "metadata": {},
   "outputs": [],
   "source": [
    "first_block = s[0:3 ,0:3]\n",
    "\n",
    "second_block = s[0:3 ,3:6]\n",
    "\n",
    "third_block = s[0:3 ,6:9]\n",
    " \n",
    "fourth_block = s[3:6 ,0:3]\n",
    "\n",
    "fiveth_block = s[3:6 ,3:6]\n",
    "\n",
    "sixth_block = s[3:6,6:9]"
   ]
  },
  {
   "cell_type": "markdown",
   "id": "91a75cb4",
   "metadata": {},
   "source": [
    "you will notice the pattern in the above block slicing. we will use for loop"
   ]
  },
  {
   "cell_type": "code",
   "execution_count": 45,
   "id": "c3f0273c",
   "metadata": {},
   "outputs": [
    {
     "name": "stdout",
     "output_type": "stream",
     "text": [
      "[[5 3 4]\n",
      " [6 7 2]\n",
      " [1 9 8]]\n",
      "[[6 7 8]\n",
      " [1 9 5]\n",
      " [3 4 2]]\n",
      "[[9 1 2]\n",
      " [3 4 8]\n",
      " [5 6 7]]\n",
      "[[8 5 9]\n",
      " [4 2 6]\n",
      " [7 1 3]]\n",
      "[[7 6 1]\n",
      " [8 5 3]\n",
      " [9 2 4]]\n",
      "[[4 2 3]\n",
      " [7 9 1]\n",
      " [8 5 6]]\n",
      "[[9 6 1]\n",
      " [2 8 7]\n",
      " [3 4 5]]\n",
      "[[5 3 7]\n",
      " [4 1 9]\n",
      " [2 8 6]]\n",
      "[[2 8 4]\n",
      " [6 3 5]\n",
      " [1 7 9]]\n"
     ]
    }
   ],
   "source": [
    "#using for loop\n",
    "for i in range(0,9,3):\n",
    "    for j in range(0,9,3):\n",
    "        print(s[i : i+3, j : j+3])\n",
    "        # you will se every block of 3x3 matrix is printed \n",
    "        # it took me time to understamd the slicing"
   ]
  },
  {
   "cell_type": "code",
   "execution_count": 46,
   "id": "d864433d",
   "metadata": {},
   "outputs": [
    {
     "name": "stdout",
     "output_type": "stream",
     "text": [
      "45\n",
      "45\n",
      "45\n",
      "45\n",
      "45\n",
      "45\n",
      "45\n",
      "45\n",
      "45\n"
     ]
    }
   ],
   "source": [
    "#now summing the every block of s to see if sum is same or not \n",
    "# if same its valid otherwise not\n",
    "\n",
    "for i in range(0,9,3):\n",
    "    for j in range(0,9,3):\n",
    "        sl =s[i : i+3, j : j+3]\n",
    "        print(sl.sum())"
   ]
  },
  {
   "cell_type": "markdown",
   "id": "7c2d83fd",
   "metadata": {},
   "source": [
    "General Question"
   ]
  },
  {
   "cell_type": "code",
   "execution_count": 47,
   "id": "244b3cef",
   "metadata": {},
   "outputs": [],
   "source": [
    "import numpy as np\n",
    "\n",
    "# Columns: [Age, Math Marks, Science Marks]\n",
    "data = np.array([\n",
    "    [18, 85, 78],   # Student 1\n",
    "    [19, 92, 88],   # Student 2\n",
    "    [17, 76, 95],   # Student 3\n",
    "    [18, 65, 70],   # Student 4\n",
    "    [20, 90, 85]    # Student 5\n",
    "])"
   ]
  },
  {
   "cell_type": "code",
   "execution_count": 48,
   "id": "6bcd25e9",
   "metadata": {},
   "outputs": [
    {
     "name": "stdout",
     "output_type": "stream",
     "text": [
      "(5, 3)\n"
     ]
    }
   ],
   "source": [
    "#Get the shape of the matrix.\n",
    "print(data.shape)"
   ]
  },
  {
   "cell_type": "code",
   "execution_count": 49,
   "id": "4d55849a",
   "metadata": {},
   "outputs": [
    {
     "name": "stdout",
     "output_type": "stream",
     "text": [
      "18.4\n"
     ]
    }
   ],
   "source": [
    "#Find the average age of students.\n",
    "average_age = np.mean(data[:,0])\n",
    "print(average_age)"
   ]
  },
  {
   "cell_type": "code",
   "execution_count": 50,
   "id": "796497ff",
   "metadata": {},
   "outputs": [
    {
     "name": "stdout",
     "output_type": "stream",
     "text": [
      "[85 92 76 65 90]\n"
     ]
    }
   ],
   "source": [
    "#Extract Math marks of all students.\n",
    "maths_mrks = data[:,1]\n",
    "print(maths_mrks)"
   ]
  },
  {
   "cell_type": "code",
   "execution_count": 51,
   "id": "49db2885",
   "metadata": {},
   "outputs": [
    {
     "name": "stdout",
     "output_type": "stream",
     "text": [
      "95\n"
     ]
    }
   ],
   "source": [
    "#Find the highest Science mark.\n",
    "max_sc_mrks = np.max(data[:,2])\n",
    "print(max_sc_mrks)"
   ]
  },
  {
   "cell_type": "code",
   "execution_count": 52,
   "id": "9ea6549c",
   "metadata": {},
   "outputs": [
    {
     "data": {
      "text/plain": [
       "array([[19, 92, 88]])"
      ]
     },
     "execution_count": 52,
     "metadata": {},
     "output_type": "execute_result"
    }
   ],
   "source": [
    "#Get details of the student who scored more than 90 in Math.\n",
    "data[data[:,1] > 90]\n"
   ]
  },
  {
   "cell_type": "code",
   "execution_count": 53,
   "id": "41aa46d5",
   "metadata": {},
   "outputs": [
    {
     "data": {
      "text/plain": [
       "array([[18, 90, 78],\n",
       "       [19, 97, 88],\n",
       "       [17, 81, 95],\n",
       "       [18, 70, 70],\n",
       "       [20, 95, 85]])"
      ]
     },
     "execution_count": 53,
     "metadata": {},
     "output_type": "execute_result"
    }
   ],
   "source": [
    "#Increase Math marks of all students by 5.\n",
    "data[:,1] += 5\n",
    "data\n"
   ]
  },
  {
   "cell_type": "code",
   "execution_count": 54,
   "id": "62697d7a",
   "metadata": {},
   "outputs": [
    {
     "name": "stdout",
     "output_type": "stream",
     "text": [
      "Original data:\n",
      " [[18 90 78]\n",
      " [19 97 88]\n",
      " [17 81 95]\n",
      " [18 70 70]\n",
      " [20 95 85]]\n",
      "\n",
      "Data after data[:, 1] = data[:, 1] + 5:\n",
      " [[ 18  95  78]\n",
      " [ 19 102  88]\n",
      " [ 17  86  95]\n",
      " [ 18  75  70]\n",
      " [ 20 100  85]]\n"
     ]
    }
   ],
   "source": [
    "print(\"Original data:\\n\", data)\n",
    "\n",
    "# Add 5 to the second column (index 1)\n",
    "data[:, 1] = data[:, 1] + 5\n",
    "\n",
    "print(\"\\nData after data[:, 1] = data[:, 1] + 5:\\n\", data)"
   ]
  },
  {
   "cell_type": "code",
   "execution_count": 55,
   "id": "514b2332",
   "metadata": {},
   "outputs": [
    {
     "data": {
      "text/plain": [
       "3"
      ]
     },
     "execution_count": 55,
     "metadata": {},
     "output_type": "execute_result"
    }
   ],
   "source": [
    "#Find how many students are younger than 19.\n",
    "len(data[data[:,0] < 19])"
   ]
  },
  {
   "cell_type": "code",
   "execution_count": 56,
   "id": "ac64ec1e",
   "metadata": {},
   "outputs": [
    {
     "data": {
      "text/plain": [
       "array([91.6, 83.2])"
      ]
     },
     "execution_count": 56,
     "metadata": {},
     "output_type": "execute_result"
    }
   ],
   "source": [
    "#Calculate the average marks in each subject (column-wise mean).\n",
    "np.mean(data[:,1:]) # its take out the mean of the both subject\n",
    "#but we need mean subject wise\n",
    "#so\n",
    "np.mean(data[:,1:],axis =0)"
   ]
  },
  {
   "cell_type": "code",
   "execution_count": 57,
   "id": "0c853e50",
   "metadata": {},
   "outputs": [
    {
     "data": {
      "text/plain": [
       "array([[ 19, 102,  88],\n",
       "       [ 17,  86,  95],\n",
       "       [ 20, 100,  85]])"
      ]
     },
     "execution_count": 57,
     "metadata": {},
     "output_type": "execute_result"
    }
   ],
   "source": [
    "#Get data of students who scored at least 80 in both subjects.\n",
    "\n",
    "data[(data[:,1] >= 80) & (data[:,2] >= 80) ]\n",
    "# question why we can't use and"
   ]
  },
  {
   "cell_type": "code",
   "execution_count": null,
   "id": "45776b42",
   "metadata": {},
   "outputs": [],
   "source": [
    "#Replace all Science marks < 75 with 0.\n",
    "data[:,2][data[:,2] < 75] = 0"
   ]
  }
 ],
 "metadata": {
  "kernelspec": {
   "display_name": "Python 3",
   "language": "python",
   "name": "python3"
  },
  "language_info": {
   "codemirror_mode": {
    "name": "ipython",
    "version": 3
   },
   "file_extension": ".py",
   "mimetype": "text/x-python",
   "name": "python",
   "nbconvert_exporter": "python",
   "pygments_lexer": "ipython3",
   "version": "3.13.3"
  }
 },
 "nbformat": 4,
 "nbformat_minor": 5
}
