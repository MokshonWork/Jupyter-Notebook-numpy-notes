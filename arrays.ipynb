{
 "cells": [
  {
   "cell_type": "code",
   "execution_count": 9,
   "id": "a66c9303",
   "metadata": {},
   "outputs": [],
   "source": [
    "import numpy as np"
   ]
  },
  {
   "cell_type": "markdown",
   "id": "7d2035b9",
   "metadata": {},
   "source": [
    "*Basic Array creation*"
   ]
  },
  {
   "cell_type": "code",
   "execution_count": null,
   "id": "54bac507",
   "metadata": {},
   "outputs": [
    {
     "data": {
      "text/plain": [
       "array([1, 2, 3, 4])"
      ]
     },
     "execution_count": 5,
     "metadata": {},
     "output_type": "execute_result"
    }
   ],
   "source": [
    "arr = np.array([1,2,3,4])\n",
    "arr"
   ]
  },
  {
   "cell_type": "code",
   "execution_count": null,
   "id": "7ce00e8a",
   "metadata": {},
   "outputs": [
    {
     "data": {
      "text/plain": [
       "[1, 2, 3, 5, 'hello']"
      ]
     },
     "execution_count": 6,
     "metadata": {},
     "output_type": "execute_result"
    }
   ],
   "source": [
    "#list comaring with array\n",
    "a = [1,2,3,5,\"hello\"]\n",
    "a"
   ]
  },
  {
   "cell_type": "code",
   "execution_count": null,
   "id": "2ba24e46",
   "metadata": {},
   "outputs": [
    {
     "name": "stdout",
     "output_type": "stream",
     "text": [
      "[1 2 3]\n",
      "['1' '2' '3' '4.0']\n"
     ]
    }
   ],
   "source": [
    "# Force integers, floats will be truncated\n",
    "arr_int = np.array([1, 2.5, 3], dtype=int)\n",
    "print(arr_int) # Output: [1 2 3] (2.5 is truncated to 2)\n",
    "\n",
    "# Force strings, numbers will be converted to strings\n",
    "arr_str = np.array([1, 2, 3, 4.0], dtype=str)\n",
    "print(arr_str) # Output: ['1' '2' '3' '4.0']"
   ]
  },
  {
   "cell_type": "code",
   "execution_count": null,
   "id": "dbd92e81",
   "metadata": {},
   "outputs": [
    {
     "name": "stdout",
     "output_type": "stream",
     "text": [
      "[[1, 2, 3], [4, 5, 6], [7, 8, 9]]\n"
     ]
    }
   ],
   "source": [
    "#when we write 2d array using list it will give outout that looks like 1d array\n",
    "# for eg\n",
    "l =  [[1,2,3] , [4,5,6] , [7,8,9]]\n",
    "print(l)"
   ]
  },
  {
   "cell_type": "code",
   "execution_count": null,
   "id": "77370c35",
   "metadata": {},
   "outputs": [
    {
     "name": "stdout",
     "output_type": "stream",
     "text": [
      "[[1 2 3]\n",
      " [4 5 6]\n",
      " [7 8 9]]\n"
     ]
    }
   ],
   "source": [
    "#now if we want to print it as a 2d array we use np.array\n",
    "#for eg l =  [[1,2,3] , [4,5,6] , [7,8,9]]\n",
    "\n",
    "print(np.array(l))\n",
    "# this is 2d array"
   ]
  },
  {
   "cell_type": "markdown",
   "id": "7e6db4c6",
   "metadata": {},
   "source": [
    "*Array generation function*"
   ]
  },
  {
   "cell_type": "code",
   "execution_count": null,
   "id": "d29e9798",
   "metadata": {},
   "outputs": [
    {
     "name": "stdout",
     "output_type": "stream",
     "text": [
      "[ 1  2  3  4  5  6  7  8  9 10]\n",
      "[1 3 5 7 9]\n"
     ]
    }
   ],
   "source": [
    " #it is just like the range func that we learn in for loop,\n",
    "\n",
    "arr = np.arange(1,11) #will print array 1 to 10\n",
    "print(arr)\n",
    "\n",
    "print(np.arange(1,11,2)) # will print odd no,\n"
   ]
  },
  {
   "cell_type": "code",
   "execution_count": null,
   "id": "ac406c59",
   "metadata": {},
   "outputs": [
    {
     "name": "stdout",
     "output_type": "stream",
     "text": [
      "[0. 0. 0. 0. 0. 0.]\n"
     ]
    }
   ],
   "source": [
    "#now if we want to get  array of zeros\n",
    "\n",
    "print(np.zeros(6)) \n",
    "#output will be in the 1d array"
   ]
  },
  {
   "cell_type": "code",
   "execution_count": null,
   "id": "689f47f4",
   "metadata": {},
   "outputs": [
    {
     "name": "stdout",
     "output_type": "stream",
     "text": [
      "[[0. 0. 0. 0. 0. 0. 0. 0.]\n",
      " [0. 0. 0. 0. 0. 0. 0. 0.]\n",
      " [0. 0. 0. 0. 0. 0. 0. 0.]\n",
      " [0. 0. 0. 0. 0. 0. 0. 0.]]\n"
     ]
    }
   ],
   "source": [
    "#so for the 2d array of zeros\n",
    "print(np.zeros((4,8))) # or in simple terms\n",
    "#arr = np.zeros((6,6))"
   ]
  },
  {
   "cell_type": "code",
   "execution_count": null,
   "id": "f56aa761",
   "metadata": {},
   "outputs": [
    {
     "data": {
      "text/plain": [
       "array([[1., 1., 1., 1.],\n",
       "       [1., 1., 1., 1.]])"
      ]
     },
     "execution_count": 21,
     "metadata": {},
     "output_type": "execute_result"
    }
   ],
   "source": [
    "#just like for zeros array there is also ones array\n",
    "arr = np.ones((2,4))\n",
    "arr"
   ]
  },
  {
   "cell_type": "code",
   "execution_count": null,
   "id": "66e0cdb9",
   "metadata": {},
   "outputs": [
    {
     "name": "stdout",
     "output_type": "stream",
     "text": [
      "[1. 3. 5.]\n"
     ]
    },
    {
     "data": {
      "text/plain": [
       "array([0.        , 0.01010101, 0.02020202, 0.03030303, 0.04040404,\n",
       "       0.05050505, 0.06060606, 0.07070707, 0.08080808, 0.09090909,\n",
       "       0.1010101 , 0.11111111, 0.12121212, 0.13131313, 0.14141414,\n",
       "       0.15151515, 0.16161616, 0.17171717, 0.18181818, 0.19191919,\n",
       "       0.2020202 , 0.21212121, 0.22222222, 0.23232323, 0.24242424,\n",
       "       0.25252525, 0.26262626, 0.27272727, 0.28282828, 0.29292929,\n",
       "       0.3030303 , 0.31313131, 0.32323232, 0.33333333, 0.34343434,\n",
       "       0.35353535, 0.36363636, 0.37373737, 0.38383838, 0.39393939,\n",
       "       0.4040404 , 0.41414141, 0.42424242, 0.43434343, 0.44444444,\n",
       "       0.45454545, 0.46464646, 0.47474747, 0.48484848, 0.49494949,\n",
       "       0.50505051, 0.51515152, 0.52525253, 0.53535354, 0.54545455,\n",
       "       0.55555556, 0.56565657, 0.57575758, 0.58585859, 0.5959596 ,\n",
       "       0.60606061, 0.61616162, 0.62626263, 0.63636364, 0.64646465,\n",
       "       0.65656566, 0.66666667, 0.67676768, 0.68686869, 0.6969697 ,\n",
       "       0.70707071, 0.71717172, 0.72727273, 0.73737374, 0.74747475,\n",
       "       0.75757576, 0.76767677, 0.77777778, 0.78787879, 0.7979798 ,\n",
       "       0.80808081, 0.81818182, 0.82828283, 0.83838384, 0.84848485,\n",
       "       0.85858586, 0.86868687, 0.87878788, 0.88888889, 0.8989899 ,\n",
       "       0.90909091, 0.91919192, 0.92929293, 0.93939394, 0.94949495,\n",
       "       0.95959596, 0.96969697, 0.97979798, 0.98989899, 1.        ])"
      ]
     },
     "execution_count": 9,
     "metadata": {},
     "output_type": "execute_result"
    }
   ],
   "source": [
    "b = np.linspace(1,5,3)\n",
    "print(b)\n",
    "\n",
    "a = np.linspace(0,1,100)\n",
    "a"
   ]
  },
  {
   "cell_type": "markdown",
   "id": "38d1cbdc",
   "metadata": {},
   "source": [
    "*Random Generation Function*"
   ]
  },
  {
   "cell_type": "code",
   "execution_count": null,
   "id": "c8069111",
   "metadata": {},
   "outputs": [
    {
     "data": {
      "text/plain": [
       "array([0.48300306, 0.12545579, 0.86633962, 0.24590972, 0.79566572,\n",
       "       0.05151827, 0.19181725, 0.87441841, 0.83568919, 0.3416074 ])"
      ]
     },
     "execution_count": 10,
     "metadata": {},
     "output_type": "execute_result"
    }
   ],
   "source": [
    "#to generate a random 1d array\n",
    "# use random.rand\n",
    "#if you are using random.rand you will follow normalization \n",
    "# it means that random no. will be generated will be between 0 and 1\n",
    "\n",
    "np.random.rand(10) "
   ]
  },
  {
   "cell_type": "code",
   "execution_count": null,
   "id": "9eb8c160",
   "metadata": {},
   "outputs": [
    {
     "data": {
      "text/plain": [
       "array([ 1.04625363,  0.27735871,  1.11173569, -0.60353206, -1.83894245,\n",
       "        1.7240598 , -0.50507   , -0.88638292,  1.12712   ,  0.89925846])"
      ]
     },
     "execution_count": 11,
     "metadata": {},
     "output_type": "execute_result"
    }
   ],
   "source": [
    "# and other is standarization,\n",
    "# random.randn\n",
    "# it means that random no. will be generated will be between 3 and -3\n",
    "\n",
    "np.random.randn(10)  "
   ]
  },
  {
   "cell_type": "code",
   "execution_count": null,
   "id": "59f2c17c",
   "metadata": {},
   "outputs": [],
   "source": []
  },
  {
   "cell_type": "code",
   "execution_count": null,
   "id": "17ef590a",
   "metadata": {},
   "outputs": [
    {
     "name": "stdout",
     "output_type": "stream",
     "text": [
      "[18 10 13 13 13 19 12 14 10 10]\n"
     ]
    }
   ],
   "source": [
    "#And if you want to generate an random integer just like we used to do in the python \n",
    "# use random.randint(strting value , stoping value , how many numbers to be choosn randomly)\n",
    "\n",
    "\n",
    "c = np.random.randint(10,20,10)  \n",
    "print(c)\n"
   ]
  },
  {
   "cell_type": "code",
   "execution_count": null,
   "id": "171884b4",
   "metadata": {},
   "outputs": [],
   "source": [
    "#to choos a random nu. from chice\n",
    "print(np.random.choice([1,2,3]))"
   ]
  },
  {
   "cell_type": "markdown",
   "id": "82f705e6",
   "metadata": {},
   "source": [
    "*Array Attributes*\n"
   ]
  },
  {
   "cell_type": "code",
   "execution_count": null,
   "id": "46bbb833",
   "metadata": {},
   "outputs": [
    {
     "data": {
      "text/plain": [
       "array([[1, 2, 3],\n",
       "       [4, 5, 6],\n",
       "       [7, 8, 9]])"
      ]
     },
     "execution_count": 3,
     "metadata": {},
     "output_type": "execute_result"
    }
   ],
   "source": [
    "arr = np.array([[1,2,3],[4,5,6],[7,8,9]])\n",
    "arr"
   ]
  },
  {
   "cell_type": "code",
   "execution_count": null,
   "id": "a3704ff7",
   "metadata": {},
   "outputs": [
    {
     "data": {
      "text/plain": [
       "(3, 3)"
      ]
     },
     "execution_count": 4,
     "metadata": {},
     "output_type": "execute_result"
    }
   ],
   "source": [
    "#shape attribute (remeber: we don't put bracket in the attribute)\n",
    "#use name.shape\n",
    "\n",
    "arr.shape\n",
    "\n",
    "#or for 1d array\n",
    "arr_1d = np.array([1, 2, 3, 4, 5])\n",
    "print(arr_1d.shape)  # Output: (5,)\n",
    "\n",
    "# output will tell no. of rows and columns"
   ]
  },
  {
   "cell_type": "code",
   "execution_count": null,
   "id": "15dc5373",
   "metadata": {},
   "outputs": [
    {
     "data": {
      "text/plain": [
       "9"
      ]
     },
     "execution_count": 5,
     "metadata": {},
     "output_type": "execute_result"
    }
   ],
   "source": [
    "#size attribute , it tells how many elements are there in the array\n",
    "#use name.size\n",
    "\n",
    "arr.size"
   ]
  },
  {
   "cell_type": "code",
   "execution_count": null,
   "id": "5f9c2ada",
   "metadata": {},
   "outputs": [
    {
     "data": {
      "text/plain": [
       "dtype('int64')"
      ]
     },
     "execution_count": 6,
     "metadata": {},
     "output_type": "execute_result"
    }
   ],
   "source": [
    "#type attribute tell the type of the elements in the array\n",
    "# use name.dtye\n",
    "\n",
    "arr.dtype"
   ]
  },
  {
   "cell_type": "code",
   "execution_count": null,
   "id": "3de803a0",
   "metadata": {},
   "outputs": [
    {
     "name": "stdout",
     "output_type": "stream",
     "text": [
      "1\n",
      "2\n"
     ]
    }
   ],
   "source": [
    "#Number of Dimensions,  \n",
    "# For example, a 1D array (vector) has ndim = 1, a 2D array (matrix) has ndim = 2, and so on.\n",
    "\n",
    "arr_1d = np.array([1, 2, 3])\n",
    "print(arr_1d.ndim)  # Output: 1\n",
    "\n",
    "arr_2d = np.array([[1, 2], [3, 4]])\n",
    "print(arr_2d.ndim)  # Output: 2"
   ]
  },
  {
   "cell_type": "code",
   "execution_count": null,
   "id": "0eccc9b6",
   "metadata": {},
   "outputs": [
    {
     "name": "stdout",
     "output_type": "stream",
     "text": [
      "4\n",
      "8\n"
     ]
    }
   ],
   "source": [
    "#Size of Each Element, This attribute returns the size (in bytes) of each element in the array.\n",
    "arr_int = np.array([1, 2, 3], dtype=np.int32)\n",
    "print(arr_int.itemsize) # Output: 4 (for a 32-bit integer)\n",
    "\n",
    "arr_float = np.array([1.0, 2.0], dtype=np.float64)\n",
    "print(arr_float.itemsize) # Output: 8 (for a 64-bit float)"
   ]
  },
  {
   "cell_type": "code",
   "execution_count": null,
   "id": "2846775d",
   "metadata": {},
   "outputs": [
    {
     "name": "stdout",
     "output_type": "stream",
     "text": [
      "16\n"
     ]
    }
   ],
   "source": [
    "# Total Bytes Consumed\n",
    "#this attribute returns the total number of bytes consumed by the array's data. It's equivalent to array.size * array.itemsize\n",
    "\n",
    "arr = np.array([[1, 2], [3, 4]], dtype=np.int32)\n",
    "print(arr.nbytes) # Output: 16 (4 elements * 4 bytes/element)"
   ]
  },
  {
   "cell_type": "code",
   "execution_count": null,
   "id": "43de4365",
   "metadata": {},
   "outputs": [
    {
     "name": "stdout",
     "output_type": "stream",
     "text": [
      "[[1 2]\n",
      " [3 4]]\n",
      "[[1 3]\n",
      " [2 4]]\n"
     ]
    }
   ],
   "source": [
    "#Transposed Array\n",
    "\n",
    "arr = np.array([[1, 2], [3, 4]])\n",
    "print(arr)\n",
    "# [[1 2]\n",
    "#  [3 4]]\n",
    "\n",
    "print(arr.T)\n",
    "# [[1 3]\n",
    "#  [2 4]]"
   ]
  },
  {
   "cell_type": "markdown",
   "id": "3d816b1a",
   "metadata": {},
   "source": [
    "*Array methods*"
   ]
  },
  {
   "cell_type": "code",
   "execution_count": null,
   "id": "a73dc489",
   "metadata": {},
   "outputs": [
    {
     "name": "stdout",
     "output_type": "stream",
     "text": [
      "1\n",
      "9\n"
     ]
    }
   ],
   "source": [
    "# note in methods we need to use the curve brackets\n",
    "#array minimum: to find out the element in the array which is minimum \n",
    "\n",
    "arr = np.array([[1,2,3],[4,5,6],[7,8,9]])\n",
    "print(arr.min())\n",
    "\n",
    "#array maximum: to find out the element in the array which is maximum\n",
    "print(arr.max())\n"
   ]
  },
  {
   "cell_type": "code",
   "execution_count": null,
   "id": "ec3bd1e1",
   "metadata": {},
   "outputs": [
    {
     "name": "stdout",
     "output_type": "stream",
     "text": [
      "8\n",
      "0\n"
     ]
    }
   ],
   "source": [
    "#argmax() : to find out the index of the maximum element in the array\n",
    "arr = np.array([[1,2,3],[4,5,6],[7,8,9]])\n",
    "print(arr.argmax())\n",
    "\n",
    "#argmin() : to find out the index of the minimum element in the array\n",
    "print(arr.argmin())\n"
   ]
  },
  {
   "cell_type": "code",
   "execution_count": null,
   "id": "2aae0057",
   "metadata": {},
   "outputs": [
    {
     "name": "stdout",
     "output_type": "stream",
     "text": [
      "45\n"
     ]
    }
   ],
   "source": [
    "#suming all the elements in the array\n",
    "arr = np.array([[1,2,3],[4,5,6],[7,8,9]])\n",
    "print(arr.sum())\n"
   ]
  },
  {
   "cell_type": "code",
   "execution_count": null,
   "id": "4d776592",
   "metadata": {},
   "outputs": [
    {
     "name": "stdout",
     "output_type": "stream",
     "text": [
      "[12 15 18]\n"
     ]
    }
   ],
   "source": [
    "# summing the column of the matrix\n",
    "# for that np.sum(arr, axis=0)\n",
    "arr = np.array([[1,2,3],[4,5,6],[7,8,9]])\n",
    "print(arr.sum(axis=0))"
   ]
  },
  {
   "cell_type": "code",
   "execution_count": null,
   "id": "d6bd90dd",
   "metadata": {},
   "outputs": [
    {
     "name": "stdout",
     "output_type": "stream",
     "text": [
      "[ 6 15 24]\n"
     ]
    }
   ],
   "source": [
    "# summing the row of the matrix\n",
    "# for that np.sum(arr, axis=1)\n",
    "arr = np.array([[1,2,3],[4,5,6],[7,8,9]])\n",
    "print(arr.sum(axis=1))"
   ]
  },
  {
   "cell_type": "code",
   "execution_count": null,
   "id": "fa666e8e",
   "metadata": {},
   "outputs": [
    {
     "name": "stdout",
     "output_type": "stream",
     "text": [
      "5.0\n"
     ]
    }
   ],
   "source": [
    "#mean of the array\n",
    "arr = np.array([[1,2,3],[4,5,6],[7,8,9]])\n",
    "print(arr.mean())"
   ]
  },
  {
   "cell_type": "code",
   "execution_count": null,
   "id": "636231e5",
   "metadata": {},
   "outputs": [
    {
     "name": "stdout",
     "output_type": "stream",
     "text": [
      "2.581988897471611\n"
     ]
    }
   ],
   "source": [
    "# standard deviation of the array\n",
    "arr = np.array([[1,2,3],[4,5,6],[7,8,9]])\n",
    "print(arr.std())"
   ]
  },
  {
   "cell_type": "markdown",
   "id": "d588f797",
   "metadata": {},
   "source": [
    "*Reshaping and Resizing*"
   ]
  },
  {
   "cell_type": "code",
   "execution_count": null,
   "id": "e6e94240",
   "metadata": {},
   "outputs": [
    {
     "name": "stdout",
     "output_type": "stream",
     "text": [
      "1d array with elements till 1 to 30: [ 1  2  3  4  5  6  7  8  9 10 11 12 13 14 15 16 17 18 19 20 21 22 23 24\n",
      " 25 26 27 28 29 30]\n"
     ]
    }
   ],
   "source": [
    "#reshape() , if you have 30 elements in 1d array,\n",
    "#  and now you have to store it in inside an 2d array\n",
    "# ,so you will use reshape(row,column)\n",
    "\n",
    "arr1 = np.arange(1,31)\n",
    "print(f\"1d array with elements till 1 to 30: {arr1}\")"
   ]
  },
  {
   "cell_type": "code",
   "execution_count": null,
   "id": "03eef78e",
   "metadata": {},
   "outputs": [
    {
     "name": "stdout",
     "output_type": "stream",
     "text": [
      "2d array with 5 rows and 6 columns:[[ 1  2  3  4  5  6]\n",
      " [ 7  8  9 10 11 12]\n",
      " [13 14 15 16 17 18]\n",
      " [19 20 21 22 23 24]\n",
      " [25 26 27 28 29 30]]\n",
      "\n",
      "2d array with 5 rows and 6 columns:[[ 1  2  3  4  5]\n",
      " [ 6  7  8  9 10]\n",
      " [11 12 13 14 15]\n",
      " [16 17 18 19 20]\n",
      " [21 22 23 24 25]\n",
      " [26 27 28 29 30]]\n"
     ]
    }
   ],
   "source": [
    "#now use reshape(r,c)\n",
    "arr1 = arr1.reshape(5,6)\n",
    "print(f\"2d array with 5 rows and 6 columns:{arr1}\")\n",
    "print()\n",
    "\n",
    "#now use reshape(r,c)\n",
    "arr1 = arr1.reshape(6,5)\n",
    "print(f\"2d array with 5 rows and 6 columns:{arr1}\")"
   ]
  },
  {
   "cell_type": "code",
   "execution_count": null,
   "id": "bf0acdee",
   "metadata": {},
   "outputs": [],
   "source": []
  }
 ],
 "metadata": {
  "kernelspec": {
   "display_name": "Python 3",
   "language": "python",
   "name": "python3"
  },
  "language_info": {
   "codemirror_mode": {
    "name": "ipython",
    "version": 3
   },
   "file_extension": ".py",
   "mimetype": "text/x-python",
   "name": "python",
   "nbconvert_exporter": "python",
   "pygments_lexer": "ipython3",
   "version": "3.13.3"
  }
 },
 "nbformat": 4,
 "nbformat_minor": 5
}
