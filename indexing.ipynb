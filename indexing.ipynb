{
 "cells": [
  {
   "cell_type": "code",
   "execution_count": 39,
   "id": "f162a3ea",
   "metadata": {},
   "outputs": [],
   "source": [
    "import numpy as np"
   ]
  },
  {
   "cell_type": "markdown",
   "id": "19a182a5",
   "metadata": {},
   "source": [
    "*NUMPY INDEXING AND SLICING OF VECTORS*"
   ]
  },
  {
   "cell_type": "code",
   "execution_count": 40,
   "id": "fb8c1fd5",
   "metadata": {},
   "outputs": [
    {
     "name": "stdout",
     "output_type": "stream",
     "text": [
      "[11 12 13 14 15 16 17 18 19 20]\n"
     ]
    }
   ],
   "source": [
    "arr = np.arange(11,21)\n",
    "print(arr)"
   ]
  },
  {
   "cell_type": "code",
   "execution_count": 41,
   "id": "83ad6af5",
   "metadata": {},
   "outputs": [
    {
     "name": "stdout",
     "output_type": "stream",
     "text": [
      "[14 16 18 20]\n"
     ]
    }
   ],
   "source": [
    "arr_slice = arr[3::2]\n",
    "print(arr_slice)"
   ]
  },
  {
   "cell_type": "markdown",
   "id": "90270d0c",
   "metadata": {},
   "source": [
    "*NUMPY INDEXING AND SLICING OF MATRIX*"
   ]
  },
  {
   "cell_type": "code",
   "execution_count": 42,
   "id": "84c3b8fa",
   "metadata": {},
   "outputs": [
    {
     "name": "stdout",
     "output_type": "stream",
     "text": [
      "[[ 1  2  3  4  5]\n",
      " [ 6  7  8  9 10]\n",
      " [11 12 13 14 15]\n",
      " [16 17 18 19 20]\n",
      " [21 22 23 24 25]\n",
      " [26 27 28 29 30]]\n"
     ]
    }
   ],
   "source": [
    "arr = np.arange(1,31).reshape(6,5)\n",
    "print(arr)"
   ]
  },
  {
   "cell_type": "code",
   "execution_count": 43,
   "id": "35ad63d7",
   "metadata": {},
   "outputs": [
    {
     "name": "stdout",
     "output_type": "stream",
     "text": [
      "30\n",
      "[[ 1  2  3  4  5]\n",
      " [ 6  7  8  9 10]\n",
      " [11 12 13 14 15]]\n"
     ]
    }
   ],
   "source": [
    "print(arr[5,4])\n",
    "print(arr[:3])\n"
   ]
  },
  {
   "cell_type": "markdown",
   "id": "60295fff",
   "metadata": {},
   "source": [
    "Now if you want to print the matrix of [[2,3],[7,8]],\n",
    "we will use the slicing.\n",
    "1. check rows that is 0 to 1\n",
    "2. check columns that is 1 to 2\n",
    "3. now use the slicing"
   ]
  },
  {
   "cell_type": "code",
   "execution_count": 44,
   "id": "38902648",
   "metadata": {},
   "outputs": [
    {
     "name": "stdout",
     "output_type": "stream",
     "text": [
      "[[2 3]\n",
      " [7 8]]\n"
     ]
    }
   ],
   "source": [
    "slice_mat = arr[0:2 , 1:3]\n",
    "print(slice_mat)"
   ]
  },
  {
   "cell_type": "markdown",
   "id": "21ed9ef3",
   "metadata": {},
   "source": [
    "Now print the matrix of [[19,20],[24,25],[29,30]],"
   ]
  },
  {
   "cell_type": "code",
   "execution_count": 45,
   "id": "b0600558",
   "metadata": {},
   "outputs": [
    {
     "name": "stdout",
     "output_type": "stream",
     "text": [
      "[[19 20]\n",
      " [24 25]\n",
      " [29 30]]\n"
     ]
    }
   ],
   "source": [
    "slice_mat2 = arr[3:,3:]\n",
    "print(slice_mat2)"
   ]
  },
  {
   "cell_type": "markdown",
   "id": "e6795cda",
   "metadata": {},
   "source": [
    "now print the column no. 2"
   ]
  },
  {
   "cell_type": "code",
   "execution_count": 46,
   "id": "b5b0c5a9",
   "metadata": {},
   "outputs": [
    {
     "name": "stdout",
     "output_type": "stream",
     "text": [
      "[ 3  8 13 18 23 28]\n"
     ]
    }
   ],
   "source": [
    "col_sl = arr[:,2]\n",
    "print(col_sl)\n",
    "#output: [ 3  8 13 18 23 28] after slicing it default make a new array"
   ]
  },
  {
   "cell_type": "markdown",
   "id": "f65d0608",
   "metadata": {},
   "source": [
    "*BOOLEAN INDEXING*"
   ]
  },
  {
   "cell_type": "markdown",
   "id": "e55e2d13",
   "metadata": {},
   "source": [
    "For example if you want to print an array with only even int without using the loops than we can use boolean indexing"
   ]
  },
  {
   "cell_type": "code",
   "execution_count": 47,
   "id": "e301ee27",
   "metadata": {},
   "outputs": [
    {
     "name": "stdout",
     "output_type": "stream",
     "text": [
      "[11 12 13 14 15 16 17 18 19 20]\n"
     ]
    }
   ],
   "source": [
    "arr = np.arange(11,21)\n",
    "print(arr)"
   ]
  },
  {
   "cell_type": "code",
   "execution_count": 48,
   "id": "eaf4c27d",
   "metadata": {},
   "outputs": [
    {
     "name": "stdout",
     "output_type": "stream",
     "text": [
      "[False  True False  True False  True False  True False  True]\n"
     ]
    }
   ],
   "source": [
    "bool_index = arr % 2 == 0 \n",
    "# it will return true at index at which given condition is true\n",
    "print(bool_index)"
   ]
  },
  {
   "cell_type": "code",
   "execution_count": 49,
   "id": "350c1493",
   "metadata": {},
   "outputs": [
    {
     "name": "stdout",
     "output_type": "stream",
     "text": [
      "[12 14 16 18 20]\n"
     ]
    }
   ],
   "source": [
    "arr = arr[bool_index]\n",
    "# it will make the new array in which the index was true\n",
    "print(arr)"
   ]
  },
  {
   "cell_type": "code",
   "execution_count": null,
   "id": "e0ee2bde",
   "metadata": {},
   "outputs": [],
   "source": []
  }
 ],
 "metadata": {
  "kernelspec": {
   "display_name": "Python 3",
   "language": "python",
   "name": "python3"
  },
  "language_info": {
   "codemirror_mode": {
    "name": "ipython",
    "version": 3
   },
   "file_extension": ".py",
   "mimetype": "text/x-python",
   "name": "python",
   "nbconvert_exporter": "python",
   "pygments_lexer": "ipython3",
   "version": "3.13.3"
  }
 },
 "nbformat": 4,
 "nbformat_minor": 5
}
