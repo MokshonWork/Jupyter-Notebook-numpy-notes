{
 "cells": [
  {
   "cell_type": "code",
   "execution_count": 2,
   "id": "c1dbd3f0",
   "metadata": {},
   "outputs": [],
   "source": [
    "import numpy as np"
   ]
  },
  {
   "cell_type": "markdown",
   "id": "a5707a45",
   "metadata": {},
   "source": [
    "*ARRAY OPERATION*"
   ]
  },
  {
   "cell_type": "markdown",
   "id": "78c9ccd6",
   "metadata": {},
   "source": [
    "Arithmetic operations"
   ]
  },
  {
   "cell_type": "code",
   "execution_count": 3,
   "id": "ab2ef709",
   "metadata": {},
   "outputs": [
    {
     "name": "stdout",
     "output_type": "stream",
     "text": [
      "[ 9 23  8 53 12]\n"
     ]
    }
   ],
   "source": [
    "# +\n",
    "arr1 = np.array([1,2,3,4,5])\n",
    "arr2 = np.array([8,21,5,49,7])\n",
    "sum = (arr1 + arr2)\n",
    "print(sum)"
   ]
  },
  {
   "cell_type": "code",
   "execution_count": 4,
   "id": "8da9a969",
   "metadata": {},
   "outputs": [
    {
     "name": "stdout",
     "output_type": "stream",
     "text": [
      "[ -7 -19  -2 -45  -2]\n"
     ]
    }
   ],
   "source": [
    "# -\n",
    "arr1 = np.array([1,2,3,4,5])\n",
    "arr2 = np.array([8,21,5,49,7])\n",
    "sub = (arr1 - arr2)\n",
    "print(sub)"
   ]
  },
  {
   "cell_type": "code",
   "execution_count": 5,
   "id": "ff8a6d6e",
   "metadata": {},
   "outputs": [
    {
     "name": "stdout",
     "output_type": "stream",
     "text": [
      "[  8  42  15 196  35]\n"
     ]
    }
   ],
   "source": [
    "# *\n",
    "arr1 = np.array([1,2,3,4,5])\n",
    "arr2 = np.array([8,21,5,49,7])\n",
    "mul = (arr1 * arr2)\n",
    "print(mul)"
   ]
  },
  {
   "cell_type": "code",
   "execution_count": 6,
   "id": "11debff5",
   "metadata": {},
   "outputs": [
    {
     "name": "stdout",
     "output_type": "stream",
     "text": [
      "[0.125      0.0952381  0.6        0.08163265 0.71428571]\n"
     ]
    }
   ],
   "source": [
    "# /\n",
    "arr1 = np.array([1,2,3,4,5])\n",
    "arr2 = np.array([8,21,5,49,7])\n",
    "div = (arr1 / arr2)\n",
    "print(div)"
   ]
  },
  {
   "cell_type": "code",
   "execution_count": 7,
   "id": "ea5638ab",
   "metadata": {},
   "outputs": [
    {
     "name": "stdout",
     "output_type": "stream",
     "text": [
      "[0 0 0 0 0]\n"
     ]
    }
   ],
   "source": [
    "# //\n",
    "arr1 = np.array([1,2,3,4,5])\n",
    "arr2 = np.array([8,21,5,49,7])\n",
    "float_div = (arr1 //   arr2)\n",
    "print(float_div)"
   ]
  },
  {
   "cell_type": "code",
   "execution_count": 8,
   "id": "7cb46c71",
   "metadata": {},
   "outputs": [
    {
     "name": "stdout",
     "output_type": "stream",
     "text": [
      "[      1 2097152     243       0   78125]\n"
     ]
    }
   ],
   "source": [
    "# **\n",
    "arr1 = np.array([1,2,3,4,5])\n",
    "arr2 = np.array([8,21,5,49,7])\n",
    "power = (arr1 ** arr2)\n",
    "print(power)"
   ]
  },
  {
   "cell_type": "markdown",
   "id": "d8ad55d6",
   "metadata": {},
   "source": [
    "AND MANY MORE OPERATIONS......."
   ]
  },
  {
   "cell_type": "markdown",
   "id": "14034160",
   "metadata": {},
   "source": [
    "Brodcasting"
   ]
  },
  {
   "cell_type": "markdown",
   "id": "12f669e3",
   "metadata": {},
   "source": [
    "If you want to simply add mul or wanna do any arithmetic operation on the whole array just do it with array inplace of using a loop"
   ]
  },
  {
   "cell_type": "code",
   "execution_count": 9,
   "id": "b515da5a",
   "metadata": {},
   "outputs": [
    {
     "data": {
      "text/plain": [
       "array([10, 20, 30, 40, 50, 60, 70])"
      ]
     },
     "execution_count": 9,
     "metadata": {},
     "output_type": "execute_result"
    }
   ],
   "source": [
    "l = [10,20,30,40,50,60,70]\n",
    "arr3 = np.array(l)\n",
    "arr3"
   ]
  },
  {
   "cell_type": "code",
   "execution_count": 10,
   "id": "d9ae20d3",
   "metadata": {},
   "outputs": [
    {
     "name": "stdout",
     "output_type": "stream",
     "text": [
      "[20 30 40 50 60 70 80]\n"
     ]
    }
   ],
   "source": [
    "#now i want to add 10 to every element og the arr3 just add it\n",
    "\n",
    "print(arr3+10)"
   ]
  },
  {
   "cell_type": "code",
   "execution_count": 11,
   "id": "4d37d9cf",
   "metadata": {},
   "outputs": [
    {
     "name": "stdout",
     "output_type": "stream",
     "text": [
      "[[ 1  2  3  4  5]\n",
      " [ 6  7  8  9 10]\n",
      " [11 12 13 14 15]\n",
      " [16 17 18 19 20]\n",
      " [21 22 23 24 25]]\n"
     ]
    }
   ],
   "source": [
    "arr4 = np.arange(1,26).reshape(5,5)\n",
    "print(arr4)"
   ]
  },
  {
   "cell_type": "code",
   "execution_count": 12,
   "id": "a983ce25",
   "metadata": {},
   "outputs": [
    {
     "name": "stdout",
     "output_type": "stream",
     "text": [
      "[[ 10  20  30  40  50]\n",
      " [ 60  70  80  90 100]\n",
      " [110 120 130 140 150]\n",
      " [160 170 180 190 200]\n",
      " [210 220 230 240 250]]\n"
     ]
    }
   ],
   "source": [
    "mult_brod = arr4 * 10\n",
    "print(mult_brod)"
   ]
  },
  {
   "cell_type": "markdown",
   "id": "f1ed8308",
   "metadata": {},
   "source": [
    "Just Perform any other opertion isng brodcating....."
   ]
  },
  {
   "cell_type": "markdown",
   "id": "65ab9b0e",
   "metadata": {},
   "source": [
    "Deep and shallow copy"
   ]
  },
  {
   "cell_type": "code",
   "execution_count": 13,
   "id": "236eec90",
   "metadata": {},
   "outputs": [
    {
     "name": "stdout",
     "output_type": "stream",
     "text": [
      "[ 1  2  3  4  5  6  7  8  9 10 11 12 13 14 15 16 17 18 19 20]\n"
     ]
    }
   ],
   "source": [
    "a = np.arange(1,21)\n",
    "print(a)"
   ]
  },
  {
   "cell_type": "code",
   "execution_count": 14,
   "id": "e5db23a7",
   "metadata": {},
   "outputs": [
    {
     "name": "stdout",
     "output_type": "stream",
     "text": [
      "[10 20 30 40 50]\n"
     ]
    }
   ],
   "source": [
    "slice = a[:5]\n",
    "print(slice * 10)"
   ]
  },
  {
   "cell_type": "code",
   "execution_count": 15,
   "id": "0834826b",
   "metadata": {},
   "outputs": [
    {
     "data": {
      "text/plain": [
       "array([ 1,  2,  3,  4,  5,  6,  7,  8,  9, 10, 11, 12, 13, 14, 15, 16, 17,\n",
       "       18, 19, 20])"
      ]
     },
     "execution_count": 15,
     "metadata": {},
     "output_type": "execute_result"
    }
   ],
   "source": [
    "a"
   ]
  },
  {
   "cell_type": "code",
   "execution_count": 16,
   "id": "1697b6f8",
   "metadata": {},
   "outputs": [
    {
     "data": {
      "text/plain": [
       "array([50, 60])"
      ]
     },
     "execution_count": 16,
     "metadata": {},
     "output_type": "execute_result"
    }
   ],
   "source": [
    "a[4:6]*10"
   ]
  },
  {
   "cell_type": "code",
   "execution_count": 17,
   "id": "415f91b1",
   "metadata": {},
   "outputs": [
    {
     "data": {
      "text/plain": [
       "array([ 1,  2,  3,  4,  5,  6,  7,  8,  9, 10, 11, 12, 13, 14, 15, 16, 17,\n",
       "       18, 19, 20])"
      ]
     },
     "execution_count": 17,
     "metadata": {},
     "output_type": "execute_result"
    }
   ],
   "source": [
    "a"
   ]
  },
  {
   "cell_type": "code",
   "execution_count": null,
   "id": "de5a3d0b",
   "metadata": {},
   "outputs": [],
   "source": []
  },
  {
   "cell_type": "markdown",
   "id": "f70395af",
   "metadata": {},
   "source": [
    "Matrix Operations"
   ]
  },
  {
   "cell_type": "code",
   "execution_count": 18,
   "id": "5b082a08",
   "metadata": {},
   "outputs": [],
   "source": [
    "matr1= np.array([[1,2] , [3,4]])\n",
    "matr2= np.array([[5,6] , [7,8]])"
   ]
  },
  {
   "cell_type": "code",
   "execution_count": 19,
   "id": "6b7206d0",
   "metadata": {},
   "outputs": [
    {
     "name": "stdout",
     "output_type": "stream",
     "text": [
      "[[ 5 12]\n",
      " [21 32]]\n"
     ]
    }
   ],
   "source": [
    "# if we do matrix multipication using the arithmetic operation\n",
    "#that is not how original matrix multipication work\n",
    "\n",
    "print(matr1 * matr2)"
   ]
  },
  {
   "cell_type": "code",
   "execution_count": 20,
   "id": "05832741",
   "metadata": {},
   "outputs": [
    {
     "name": "stdout",
     "output_type": "stream",
     "text": [
      "[[19 22]\n",
      " [43 50]]\n",
      "\n"
     ]
    },
    {
     "data": {
      "text/plain": [
       "array([[19, 22],\n",
       "       [43, 50]])"
      ]
     },
     "execution_count": 20,
     "metadata": {},
     "output_type": "execute_result"
    }
   ],
   "source": [
    "# real mat multi. \n",
    "# use @\n",
    "# or np.dot\n",
    "\n",
    "print(matr1 @ matr2)\n",
    "print()\n",
    "\n",
    "np.dot(matr1,matr2)"
   ]
  },
  {
   "cell_type": "code",
   "execution_count": 21,
   "id": "ac61a260",
   "metadata": {},
   "outputs": [
    {
     "name": "stdout",
     "output_type": "stream",
     "text": [
      "[[1 3]\n",
      " [2 4]]\n"
     ]
    }
   ],
   "source": [
    "#transpose\n",
    "#use.t\n",
    "\n",
    "matr1_transpose = matr1.T\n",
    "print(matr1_transpose)"
   ]
  },
  {
   "cell_type": "markdown",
   "id": "1862b6e5",
   "metadata": {},
   "source": [
    "Advance Array Manupilation"
   ]
  },
  {
   "cell_type": "markdown",
   "id": "9ef3e986",
   "metadata": {},
   "source": [
    "Stacking Array"
   ]
  },
  {
   "cell_type": "markdown",
   "id": "de972fb7",
   "metadata": {},
   "source": [
    "Note: we can't stack the 2d array\n",
    "\n",
    "\n",
    "There are three types of stacks \n",
    "* vertical Stack\n",
    "* horizontal Stack\n",
    "* Simple stack"
   ]
  },
  {
   "cell_type": "code",
   "execution_count": 22,
   "id": "53f84926",
   "metadata": {},
   "outputs": [],
   "source": [
    "a = np.array([1,2,3,4])\n",
    "b = np.array([5,6,7,8])"
   ]
  },
  {
   "cell_type": "code",
   "execution_count": 23,
   "id": "42541d7d",
   "metadata": {},
   "outputs": [
    {
     "data": {
      "text/plain": [
       "array([[1, 2, 3, 4],\n",
       "       [5, 6, 7, 8]])"
      ]
     },
     "execution_count": 23,
     "metadata": {},
     "output_type": "execute_result"
    }
   ],
   "source": [
    "#for vertical stack \n",
    "#use .vstack(a,b)\n",
    "\n",
    "np.vstack((a,b))\n"
   ]
  },
  {
   "cell_type": "code",
   "execution_count": 24,
   "id": "db289b9c",
   "metadata": {},
   "outputs": [
    {
     "data": {
      "text/plain": [
       "array([1, 2, 3, 4, 5, 6, 7, 8])"
      ]
     },
     "execution_count": 24,
     "metadata": {},
     "output_type": "execute_result"
    }
   ],
   "source": [
    "#for horizontal stack \n",
    "#use .hstack(a,b)\n",
    "\n",
    "np.hstack((a,b))"
   ]
  },
  {
   "cell_type": "code",
   "execution_count": 25,
   "id": "e9a9e030",
   "metadata": {},
   "outputs": [
    {
     "data": {
      "text/plain": [
       "array([[1, 5],\n",
       "       [2, 6],\n",
       "       [3, 7],\n",
       "       [4, 8]])"
      ]
     },
     "execution_count": 25,
     "metadata": {},
     "output_type": "execute_result"
    }
   ],
   "source": [
    "#column stack\n",
    "# use np.column_stack\n",
    "\n",
    "np.column_stack((a,b))\n"
   ]
  },
  {
   "cell_type": "markdown",
   "id": "a0dd5c0c",
   "metadata": {},
   "source": [
    "Splitting Array"
   ]
  },
  {
   "cell_type": "markdown",
   "id": "a9eeb5cd",
   "metadata": {},
   "source": [
    "Split is also two types:\n",
    "1. is horizontal split\n",
    "2. is vertical split"
   ]
  },
  {
   "cell_type": "code",
   "execution_count": 26,
   "id": "ad9dc2d5",
   "metadata": {},
   "outputs": [
    {
     "name": "stdout",
     "output_type": "stream",
     "text": [
      "[[ 0  1  2  3]\n",
      " [ 4  5  6  7]\n",
      " [ 8  9 10 11]\n",
      " [12 13 14 15]]\n"
     ]
    }
   ],
   "source": [
    "c = np.arange(16).reshape(4,4)\n",
    "print(c)"
   ]
  },
  {
   "cell_type": "code",
   "execution_count": 27,
   "id": "cd993580",
   "metadata": {},
   "outputs": [
    {
     "data": {
      "text/plain": [
       "[array([[ 0,  1],\n",
       "        [ 4,  5],\n",
       "        [ 8,  9],\n",
       "        [12, 13]]),\n",
       " array([[ 2,  3],\n",
       "        [ 6,  7],\n",
       "        [10, 11],\n",
       "        [14, 15]])]"
      ]
     },
     "execution_count": 27,
     "metadata": {},
     "output_type": "execute_result"
    }
   ],
   "source": [
    "#horizontal split hsplit\n",
    "np.hsplit(c,2)"
   ]
  },
  {
   "cell_type": "code",
   "execution_count": 28,
   "id": "de632d5f",
   "metadata": {},
   "outputs": [
    {
     "data": {
      "text/plain": [
       "[array([[0, 1, 2, 3],\n",
       "        [4, 5, 6, 7]]),\n",
       " array([[ 8,  9, 10, 11],\n",
       "        [12, 13, 14, 15]])]"
      ]
     },
     "execution_count": 28,
     "metadata": {},
     "output_type": "execute_result"
    }
   ],
   "source": [
    "#vertical split vsplit\n",
    "np.vsplit(c,2)"
   ]
  },
  {
   "cell_type": "code",
   "execution_count": null,
   "id": "5a71e5b9",
   "metadata": {},
   "outputs": [],
   "source": []
  },
  {
   "cell_type": "code",
   "execution_count": null,
   "id": "5ea78a85",
   "metadata": {},
   "outputs": [],
   "source": []
  }
 ],
 "metadata": {
  "kernelspec": {
   "display_name": "Python 3",
   "language": "python",
   "name": "python3"
  },
  "language_info": {
   "codemirror_mode": {
    "name": "ipython",
    "version": 3
   },
   "file_extension": ".py",
   "mimetype": "text/x-python",
   "name": "python",
   "nbconvert_exporter": "python",
   "pygments_lexer": "ipython3",
   "version": "3.13.3"
  }
 },
 "nbformat": 4,
 "nbformat_minor": 5
}
